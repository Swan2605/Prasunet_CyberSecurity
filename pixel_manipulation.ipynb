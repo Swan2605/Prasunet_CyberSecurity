{
 "cells": [
  {
   "cell_type": "code",
   "execution_count": 6,
   "id": "481a9305-755b-4c53-b94c-87e37654cfd5",
   "metadata": {},
   "outputs": [
    {
     "name": "stdin",
     "output_type": "stream",
     "text": [
      "Do you want to (E)ncrypt or (D)ecrypt an image?  d\n",
      "Enter the image filename (with extension):  encrypted_mitwpulogo.png\n",
      "Enter the encryption/decryption key (an integer):  7\n"
     ]
    },
    {
     "name": "stdout",
     "output_type": "stream",
     "text": [
      "Image encrypted and saved as encrypted_encrypted_mitwpulogo.png\n"
     ]
    }
   ],
   "source": [
    "from PIL import Image\n",
    "\n",
    "def encrypt_image(image_path, key):\n",
    "    # Open the image\n",
    "    image = Image.open(image_path)\n",
    "    pixels = image.load()\n",
    "    \n",
    "    # Get image dimensions\n",
    "    width, height = image.size\n",
    "    \n",
    "    # Encrypt the image by modifying pixel values\n",
    "    for x in range(width):\n",
    "        for y in range(height):\n",
    "            r, g, b, *rest = pixels[x, y]  # Handle the alpha channel if present\n",
    "            # Apply a basic mathematical operation to each pixel (e.g., XOR with key)\n",
    "            encrypted_pixel = (r ^ key, g ^ key, b ^ key)\n",
    "            if rest:  # If there's an alpha channel, append it back\n",
    "                encrypted_pixel += (rest[0],)\n",
    "            pixels[x, y] = encrypted_pixel\n",
    "    \n",
    "    # Save the encrypted image\n",
    "    encrypted_image_path = \"encrypted_\" + image_path\n",
    "    image.save(encrypted_image_path)\n",
    "    print(f\"Image encrypted and saved as {encrypted_image_path}\")\n",
    "\n",
    "def decrypt_image(image_path, key):\n",
    "    # Decrypt by applying the same operation as encryption\n",
    "    encrypt_image(image_path, key)\n",
    "\n",
    "def main():\n",
    "    choice = input(\"Do you want to (E)ncrypt or (D)ecrypt an image? \").strip().lower()\n",
    "\n",
    "    if choice not in ['e', 'd']:\n",
    "        print(\"Invalid choice. Please choose 'E' for encrypt or 'D' for decrypt.\")\n",
    "        return\n",
    "\n",
    "    image_path = input(\"Enter the image filename (with extension): \")\n",
    "    key = int(input(\"Enter the encryption/decryption key (an integer): \"))\n",
    "\n",
    "    if choice == 'e':\n",
    "        encrypt_image(image_path, key)\n",
    "    elif choice == 'd':\n",
    "        decrypt_image(image_path, key)\n",
    "\n",
    "if __name__ == \"__main__\":\n",
    "    main()\n"
   ]
  },
  {
   "cell_type": "code",
   "execution_count": 7,
   "id": "f32c9935-2997-425d-89d3-b8a22876d314",
   "metadata": {},
   "outputs": [
    {
     "name": "stdin",
     "output_type": "stream",
     "text": [
      "Enter the path of the original image:  encrypted_mitwpulogo.png\n",
      "Enter the path of the encrypted image:  encrypted_encrypted_mitwpulogo.png\n"
     ]
    },
    {
     "name": "stdout",
     "output_type": "stream",
     "text": [
      "Difference found at pixel (0, 0): (248, 248, 248, 255) != (255, 255, 255, 255)\n",
      "The images are different.\n"
     ]
    }
   ],
   "source": []
  },
  {
   "cell_type": "code",
   "execution_count": 11,
   "id": "6f2cbf1b-da75-4829-ae19-88baacf7145f",
   "metadata": {},
   "outputs": [
    {
     "name": "stdin",
     "output_type": "stream",
     "text": [
      "Do you want to (E)ncrypt or (D)ecrypt an image?  d\n",
      "Enter the image filename (with extension):  encrypted_mitwpulogo.png\n",
      "Enter the encryption/decryption key (an integer):  5\n"
     ]
    },
    {
     "name": "stdout",
     "output_type": "stream",
     "text": [
      "Image saved as decrypted_encrypted_mitwpulogo.png\n"
     ]
    }
   ],
   "source": [
    "from PIL import Image\n",
    "\n",
    "def encrypt_image(image_path, key, output_prefix=\"encrypted_\"):\n",
    "    # Open the image\n",
    "    image = Image.open(image_path)\n",
    "    pixels = image.load()\n",
    "    \n",
    "    # Get image dimensions\n",
    "    width, height = image.size\n",
    "    \n",
    "    # Encrypt the image by modifying pixel values\n",
    "    for x in range(width):\n",
    "        for y in range(height):\n",
    "            r, g, b, *rest = pixels[x, y]  # Handle the alpha channel if present\n",
    "            # Apply a basic mathematical operation to each pixel (e.g., XOR with key)\n",
    "            encrypted_pixel = (r ^ key, g ^ key, b ^ key)\n",
    "            if rest:  # If there's an alpha channel, append it back\n",
    "                encrypted_pixel += (rest[0],)\n",
    "            pixels[x, y] = encrypted_pixel\n",
    "    \n",
    "    # Save the image with the specified prefix\n",
    "    output_image_path = output_prefix + image_path\n",
    "    image.save(output_image_path)\n",
    "    print(f\"Image saved as {output_image_path}\")\n",
    "\n",
    "def decrypt_image(image_path, key):\n",
    "    # Decrypt by applying the same operation as encryption\n",
    "    encrypt_image(image_path, key, output_prefix=\"decrypted_\")\n",
    "\n",
    "def main():\n",
    "    choice = input(\"Do you want to (E)ncrypt or (D)ecrypt an image? \").strip().lower()\n",
    "\n",
    "    if choice not in ['e', 'd']:\n",
    "        print(\"Invalid choice. Please choose 'E' for encrypt or 'D' for decrypt.\")\n",
    "        return\n",
    "\n",
    "    image_path = input(\"Enter the image filename (with extension): \")\n",
    "    key = int(input(\"Enter the encryption/decryption key (an integer): \"))\n",
    "\n",
    "    if choice == 'e':\n",
    "        encrypt_image(image_path, key)\n",
    "    elif choice == 'd':\n",
    "        decrypt_image(image_path, key)\n",
    "\n",
    "if __name__ == \"__main__\":\n",
    "    main()\n"
   ]
  },
  {
   "cell_type": "code",
   "execution_count": null,
   "id": "cf226799-1e78-420a-aa4a-7149f8e14e26",
   "metadata": {},
   "outputs": [],
   "source": []
  }
 ],
 "metadata": {
  "kernelspec": {
   "display_name": "Python 3 (ipykernel)",
   "language": "python",
   "name": "python3"
  },
  "language_info": {
   "codemirror_mode": {
    "name": "ipython",
    "version": 3
   },
   "file_extension": ".py",
   "mimetype": "text/x-python",
   "name": "python",
   "nbconvert_exporter": "python",
   "pygments_lexer": "ipython3",
   "version": "3.11.5"
  }
 },
 "nbformat": 4,
 "nbformat_minor": 5
}
