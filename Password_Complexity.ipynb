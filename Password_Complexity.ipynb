{
 "cells": [
  {
   "cell_type": "code",
   "execution_count": 3,
   "id": "ded59b7b-d912-4429-821c-7b44df8ce816",
   "metadata": {},
   "outputs": [
    {
     "name": "stdin",
     "output_type": "stream",
     "text": [
      "Enter your password:  7#Suhani!@11\n"
     ]
    },
    {
     "name": "stdout",
     "output_type": "stream",
     "text": [
      "Password Strength: Very Strong\n",
      "Feedback: Your password is very strong and secure. Excellent work!\n"
     ]
    }
   ],
   "source": [
    "import re\n",
    "\n",
    "def assess_password_strength(password):\n",
    "    # Criteria for password strength\n",
    "    length_criteria = len(password) >= 12  # Increased minimum length for Very Strong\n",
    "    uppercase_criteria = re.search(r\"[A-Z]\", password) is not None\n",
    "    lowercase_criteria = re.search(r\"[a-z]\", password) is not None\n",
    "    number_criteria = re.search(r\"\\d\", password) is not None\n",
    "    special_char_criteria = re.search(r\"[!@#$%^&*(),.?\\\":{}|<>]\", password) is not None\n",
    "    no_common_patterns = not re.search(r\"(123|abc|password|qwerty|letmein)\", password.lower())\n",
    "\n",
    "    # Calculate strength score based on criteria met\n",
    "    strength_score = sum([\n",
    "        length_criteria,\n",
    "        uppercase_criteria,\n",
    "        lowercase_criteria,\n",
    "        number_criteria,\n",
    "        special_char_criteria,\n",
    "        no_common_patterns\n",
    "    ])\n",
    "\n",
    "    # Provide feedback based on the score\n",
    "    if strength_score == 6:\n",
    "        strength = \"Very Strong\"\n",
    "        feedback = \"Your password is very strong and secure. Excellent work!\"\n",
    "    elif strength_score == 5:\n",
    "        strength = \"Strong\"\n",
    "        feedback = \"Your password is strong, but consider adding more length or avoiding common patterns.\"\n",
    "    elif strength_score == 4:\n",
    "        strength = \"Moderate\"\n",
    "        feedback = \"Your password is moderate. Consider making it longer and using a mix of characters.\"\n",
    "    elif strength_score == 3:\n",
    "        strength = \"Weak\"\n",
    "        feedback = \"Your password is weak. Try adding more characters and avoiding common patterns.\"\n",
    "    else:\n",
    "        strength = \"Very Weak\"\n",
    "        feedback = \"Your password is very weak. Consider making it longer and using a combination of letters, numbers, and special characters.\"\n",
    "\n",
    "    return {\n",
    "        \"strength\": strength,\n",
    "        \"feedback\": feedback\n",
    "    }\n",
    "\n",
    "def main():\n",
    "    password = input(\"Enter your password: \")\n",
    "    result = assess_password_strength(password)\n",
    "    print(f\"Password Strength: {result['strength']}\")\n",
    "    print(f\"Feedback: {result['feedback']}\")\n",
    "\n",
    "if __name__ == \"__main__\":\n",
    "    main()\n"
   ]
  },
  {
   "cell_type": "code",
   "execution_count": null,
   "id": "49fef2f2-9bd4-4249-85ff-b34346930c1b",
   "metadata": {},
   "outputs": [],
   "source": []
  }
 ],
 "metadata": {
  "kernelspec": {
   "display_name": "Python 3 (ipykernel)",
   "language": "python",
   "name": "python3"
  },
  "language_info": {
   "codemirror_mode": {
    "name": "ipython",
    "version": 3
   },
   "file_extension": ".py",
   "mimetype": "text/x-python",
   "name": "python",
   "nbconvert_exporter": "python",
   "pygments_lexer": "ipython3",
   "version": "3.11.5"
  }
 },
 "nbformat": 4,
 "nbformat_minor": 5
}
