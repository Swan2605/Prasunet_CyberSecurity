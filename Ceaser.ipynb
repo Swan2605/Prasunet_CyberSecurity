{
 "cells": [
  {
   "cell_type": "code",
   "execution_count": 3,
   "id": "0a211c5e-16f6-49a8-a609-583acc771d0e",
   "metadata": {},
   "outputs": [
    {
     "name": "stdin",
     "output_type": "stream",
     "text": [
      "Enter the message:  suhani\n",
      "Enter the shift value:  121245\n"
     ]
    },
    {
     "name": "stdout",
     "output_type": "stream",
     "text": [
      "Encrypted Message: zbohup\n",
      "Decrypted Message: suhani\n"
     ]
    }
   ],
   "source": [
    "def encrypt(text, shift):\n",
    "    result = \"\"\n",
    "    \n",
    "    # Traverse the text\n",
    "    for i in range(len(text)):\n",
    "        char = text[i]\n",
    "        \n",
    "        # Encrypt uppercase characters\n",
    "        if char.isupper():\n",
    "            result += chr((ord(char) + shift - 65) % 26 + 65)\n",
    "        \n",
    "        # Encrypt lowercase characters\n",
    "        elif char.islower():\n",
    "            result += chr((ord(char) + shift - 97) % 26 + 97)\n",
    "        \n",
    "        # If it's neither uppercase nor lowercase, leave it as is (e.g., space, punctuation)\n",
    "        else:\n",
    "            result += char\n",
    "    \n",
    "    return result\n",
    "\n",
    "def decrypt(text, shift):\n",
    "    # To decrypt, just use the negative of the shift value\n",
    "    return encrypt(text, -shift)\n",
    "\n",
    "def main():\n",
    "    # User input\n",
    "    message = input(\"Enter the message: \")\n",
    "    shift = int(input(\"Enter the shift value: \"))\n",
    "\n",
    "    # Encrypt the message\n",
    "    encrypted_message = encrypt(message, shift)\n",
    "    print(f\"Encrypted Message: {encrypted_message}\")\n",
    "\n",
    "    # Decrypt the message\n",
    "    decrypted_message = decrypt(encrypted_message, shift)\n",
    "    print(f\"Decrypted Message: {decrypted_message}\")\n",
    "\n",
    "if __name__ == \"__main__\":\n",
    "    main()\n"
   ]
  },
  {
   "cell_type": "code",
   "execution_count": 5,
   "id": "cb447b0e-7755-415c-a3f3-7f6dc0f68a96",
   "metadata": {},
   "outputs": [
    {
     "name": "stdin",
     "output_type": "stream",
     "text": [
      "Do you want to (E)ncrypt or (D)ecrypt? Enter 'Q' to quit:  e\n",
      "Enter the message:  suhani\n",
      "Enter the shift value:  123456\n"
     ]
    },
    {
     "name": "stdout",
     "output_type": "stream",
     "text": [
      "Encrypted Message: acpivq\n",
      "Decrypted Message: suhani\n"
     ]
    },
    {
     "name": "stdin",
     "output_type": "stream",
     "text": [
      "Do you want to (E)ncrypt or (D)ecrypt? Enter 'Q' to quit:  d\n",
      "Enter the message:  suhani\n",
      "Enter the shift value:  123456\n"
     ]
    },
    {
     "name": "stdout",
     "output_type": "stream",
     "text": [
      "Decrypted Message: kmzsfa\n",
      "Encrypted Message: suhani\n"
     ]
    },
    {
     "name": "stdin",
     "output_type": "stream",
     "text": [
      "Do you want to (E)ncrypt or (D)ecrypt? Enter 'Q' to quit:  q\n"
     ]
    },
    {
     "name": "stdout",
     "output_type": "stream",
     "text": [
      "Exiting the program. Goodbye!\n"
     ]
    }
   ],
   "source": [
    "def encrypt(text, shift):\n",
    "    result = \"\"\n",
    "    \n",
    "    # Traverse the text\n",
    "    for i in range(len(text)):\n",
    "        char = text[i]\n",
    "        \n",
    "        # Encrypt uppercase characters\n",
    "        if char.isupper():\n",
    "            result += chr((ord(char) + shift - 65) % 26 + 65)\n",
    "        \n",
    "        # Encrypt lowercase characters\n",
    "        elif char.islower():\n",
    "            result += chr((ord(char) + shift - 97) % 26 + 97)\n",
    "        \n",
    "        # If it's neither uppercase nor lowercase, leave it as is (e.g., space, punctuation)\n",
    "        else:\n",
    "            result += char\n",
    "    \n",
    "    return result\n",
    "\n",
    "def decrypt(text, shift):\n",
    "    # To decrypt, just use the negative of the shift value\n",
    "    return encrypt(text, -shift)\n",
    "\n",
    "def main():\n",
    "    while True:\n",
    "        # User input\n",
    "        choice = input(\"Do you want to (E)ncrypt or (D)ecrypt? Enter 'Q' to quit: \").strip().lower()\n",
    "\n",
    "        if choice == 'q':\n",
    "            print(\"Exiting the program. Goodbye!\")\n",
    "            break\n",
    "        elif choice not in ['e', 'd']:\n",
    "            print(\"Invalid choice. Please choose 'E' for encrypt, 'D' for decrypt, or 'Q' to quit.\")\n",
    "            continue\n",
    "\n",
    "        message = input(\"Enter the message: \")\n",
    "        shift = int(input(\"Enter the shift value: \"))\n",
    "\n",
    "        if choice == 'e':\n",
    "            # Encrypt the message\n",
    "            encrypted_message = encrypt(message, shift)\n",
    "            print(f\"Encrypted Message: {encrypted_message}\")\n",
    "\n",
    "            # Show decrypted message\n",
    "            decrypted_message = decrypt(encrypted_message, shift)\n",
    "            print(f\"Decrypted Message: {decrypted_message}\")\n",
    "\n",
    "        elif choice == 'd':\n",
    "            # Decrypt the message\n",
    "            decrypted_message = decrypt(message, shift)\n",
    "            print(f\"Decrypted Message: {decrypted_message}\")\n",
    "\n",
    "            # Show encrypted message\n",
    "            encrypted_message = encrypt(decrypted_message, shift)\n",
    "            print(f\"Encrypted Message: {encrypted_message}\")\n",
    "\n",
    "if __name__ == \"__main__\":\n",
    "    main()\n"
   ]
  },
  {
   "cell_type": "code",
   "execution_count": null,
   "id": "5df4e7da-d9b5-41b6-8373-28406a5543cb",
   "metadata": {},
   "outputs": [],
   "source": [
    "from PIL import Image\n",
    "\n",
    "def encrypt_image(image_path, key):\n",
    "    # Open the image\n",
    "    image = Image.open(image_path)\n",
    "    pixels = image.load()\n",
    "    \n",
    "    # Get image dimensions\n",
    "    width, height = image.size\n",
    "    \n",
    "    # Encrypt the image by modifying pixel values\n",
    "    for x in range(width):\n",
    "        for y in range(height):\n",
    "            r, g, b = pixels[x, y]\n",
    "            # Apply a basic mathematical operation to each pixel (e.g., XOR with key)\n",
    "            pixels[x, y] = (r ^ key, g ^ key, b ^ key)\n",
    "    \n",
    "    # Save the encrypted image\n",
    "    encrypted_image_path = \"encrypted_\" + image_path\n",
    "    image.save(encrypted_image_path)\n",
    "    print(f\"Image encrypted and saved as {encrypted_image_path}\")\n",
    "\n",
    "def decrypt_image(image_path, key):\n",
    "    # Decrypt by applying the same operation as encryption\n",
    "    encrypt_image(image_path, key)\n",
    "\n",
    "def main():\n",
    "    choice = input(\"Do you want to (E)ncrypt or (D)ecrypt an image? \").strip().lower()\n",
    "\n",
    "    if choice not in ['e', 'd']:\n",
    "        print(\"Invalid choice. Please choose 'E' for encrypt or 'D' for decrypt.\")\n",
    "        return\n",
    "\n",
    "    image_path = input(\"Enter the image filename (with extension): \")\n",
    "    key = int(input(\"Enter the encryption/decryption key (an integer): \"))\n",
    "\n",
    "    if choice == 'e':\n",
    "        encrypt_image(image_path, key)\n",
    "    elif choice == 'd':\n",
    "        decrypt_image(image_path, key)\n",
    "\n",
    "if __name__ == \"__main__\":\n",
    "    main()\n"
   ]
  },
  {
   "cell_type": "code",
   "execution_count": null,
   "id": "dc80e2f1-10ce-43e2-a13a-6f8f142e0a75",
   "metadata": {},
   "outputs": [],
   "source": []
  },
  {
   "cell_type": "code",
   "execution_count": null,
   "id": "db480f46-9ca7-4bd2-b4f5-861e59ae9aab",
   "metadata": {},
   "outputs": [],
   "source": []
  },
  {
   "cell_type": "code",
   "execution_count": null,
   "id": "1e7f7372-e541-4f8b-ab9c-da5f76181b57",
   "metadata": {},
   "outputs": [],
   "source": []
  }
 ],
 "metadata": {
  "kernelspec": {
   "display_name": "Python 3 (ipykernel)",
   "language": "python",
   "name": "python3"
  },
  "language_info": {
   "codemirror_mode": {
    "name": "ipython",
    "version": 3
   },
   "file_extension": ".py",
   "mimetype": "text/x-python",
   "name": "python",
   "nbconvert_exporter": "python",
   "pygments_lexer": "ipython3",
   "version": "3.11.5"
  }
 },
 "nbformat": 4,
 "nbformat_minor": 5
}
